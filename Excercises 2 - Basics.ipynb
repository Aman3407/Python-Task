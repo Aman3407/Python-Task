{
 "cells": [
  {
   "cell_type": "markdown",
   "metadata": {},
   "source": [
    "Write a function translate() that will translate a text into \"rövarspråket\" (Swedish for \"robber's language\"). That is, double every consonant and place an occurrence of \"o\" in between. For example, translate(\"this is fun\") should return the string \"tothohisos isos fofunon\"."
   ]
  },
  {
   "cell_type": "code",
   "execution_count": 3,
   "metadata": {},
   "outputs": [
    {
     "name": "stdout",
     "output_type": "stream",
     "text": [
      "tothohisos isos fofunon\n"
     ]
    }
   ],
   "source": [
    "def translate (text):\n",
    "  TranslatedText = \"\"\n",
    "  for x in text:\n",
    "    if (x == 'a' or x == 'e' or x == 'i' or \n",
    "        x == 'o' or x == 'u' or x == 'A' or \n",
    "        x == 'E' or x == 'I' or x == 'O' or \n",
    "        x == 'U'): \n",
    "      TranslatedText += x;\n",
    "    elif(x == ' '):\n",
    "      TranslatedText += \" \"\n",
    "    else :\n",
    "      TranslatedText += x + \"o\" + x;\n",
    "  print(TranslatedText);\n",
    "\n",
    "translate(\"this is fun\")\n"
   ]
  },
  {
   "cell_type": "markdown",
   "metadata": {},
   "source": [
    "Define a function sum() and a function multiply() that sums and multiplies (respectively) all the numbers in a list of numbers. For example, sum([1, 2, 3, 4]) should return 10, and multiply([1, 2, 3, 4]) should return 24"
   ]
  },
  {
   "cell_type": "code",
   "execution_count": 7,
   "metadata": {},
   "outputs": [
    {
     "name": "stdout",
     "output_type": "stream",
     "text": [
      "10\n",
      "24\n"
     ]
    }
   ],
   "source": [
    "def sum(list):\n",
    "  sum = 0\n",
    "  for element in list :\n",
    "    sum += element\n",
    "  print(sum)\n",
    "\n",
    "def multiply(list):\n",
    "  product = 1\n",
    "  for element in list :\n",
    "    product *= element\n",
    "  print(product)\n",
    "\n",
    "sum([1,2,3,4])\n",
    "multiply([1,2,3,4])"
   ]
  },
  {
   "cell_type": "markdown",
   "metadata": {},
   "source": [
    "**Define a function reverse() that computes the reversal of a string. For example, reverse(\"I am testing\") should return the string \"gnitset ma I**"
   ]
  },
  {
   "cell_type": "code",
   "execution_count": 8,
   "metadata": {},
   "outputs": [
    {
     "data": {
      "text/plain": [
       "'gnitset ma I'"
      ]
     },
     "execution_count": 8,
     "metadata": {},
     "output_type": "execute_result"
    }
   ],
   "source": [
    "def reverse(text):\n",
    "  return text[::-1]\n",
    "reverse(\"I am testing\")"
   ]
  },
  {
   "cell_type": "markdown",
   "metadata": {},
   "source": [
    "**Define a function is_palindrome() that recognizes palindromes (i.e. words that look the same written backwards). For example, is_palindrome(\"radar\") should return True.**"
   ]
  },
  {
   "cell_type": "code",
   "execution_count": 10,
   "metadata": {},
   "outputs": [
    {
     "name": "stdout",
     "output_type": "stream",
     "text": [
      "True\n"
     ]
    }
   ],
   "source": [
    "def is_palindrome(text):\n",
    "  reverse = text[::-1]\n",
    "  return reverse == text\n",
    "\n",
    "print(is_palindrome(\"radar\"))"
   ]
  },
  {
   "cell_type": "markdown",
   "metadata": {},
   "source": [
    "**Write a function is_member() that takes a value (i.e. a number, string, etc) x and a list of values a, and returns True if x is a member of a, False otherwise.**"
   ]
  },
  {
   "cell_type": "code",
   "execution_count": 18,
   "metadata": {},
   "outputs": [
    {
     "name": "stdout",
     "output_type": "stream",
     "text": [
      "True\n"
     ]
    }
   ],
   "source": [
    "def is_member(value, list):\n",
    "  f = 1\n",
    "  for val in list:\n",
    "    if value == val: \n",
    "      f=0\n",
    "      print(\"True\")\n",
    "  if(f):\n",
    "    print(\"False\")\n",
    "\n",
    "is_member(1,[1,3,4,\"work\"])\n"
   ]
  },
  {
   "cell_type": "markdown",
   "metadata": {},
   "source": [
    "**Define a function overlapping() that takes two lists and returns True if they have at least one member in common, False otherwise. You may use your is_member() function, or the in operator, but for the sake of the exercise, you should (also) write it using two nested for-loops.**"
   ]
  },
  {
   "cell_type": "code",
   "execution_count": 20,
   "metadata": {},
   "outputs": [
    {
     "name": "stdout",
     "output_type": "stream",
     "text": [
      "False\n"
     ]
    }
   ],
   "source": [
    "def overlapping(list1,list2):\n",
    "  for val1 in list1:\n",
    "    for val2 in list2: \n",
    "      if val1 == val2 :\n",
    "        return True\n",
    "  return False\n",
    "\n",
    "print(overlapping([1,2,3,4],[5,5,6]))"
   ]
  },
  {
   "cell_type": "markdown",
   "metadata": {},
   "source": [
    "# *Define a procedure histogram() that takes a list of integers and prints a histogram to the screen. For example, histogram([4, 9, 7]) should print the following:*(click on next cell to see)\n"
   ]
  },
  {
   "cell_type": "markdown",
   "metadata": {},
   "source": [
    "\n",
    "****\n",
    "*********\n",
    "*******"
   ]
  },
  {
   "cell_type": "code",
   "execution_count": null,
   "metadata": {},
   "outputs": [],
   "source": []
  },
  {
   "cell_type": "markdown",
   "metadata": {},
   "source": [
    "**Write a function char_freq() that takes a string and builds a frequency listing of the characters contained in it. Represent the frequency listing as a Python dictionary. Try it with something like char_freq(\"abbabcbdbabdbdbabababcbcbab\").**\n",
    "\n"
   ]
  },
  {
   "cell_type": "code",
   "execution_count": 26,
   "metadata": {},
   "outputs": [
    {
     "name": "stdout",
     "output_type": "stream",
     "text": [
      "{1: 1, 2: 3, 3: 5, 4: 2}\n"
     ]
    }
   ],
   "source": [
    "def char_freq(list):\n",
    "  m={}\n",
    "  for element in list:\n",
    "    if element in m:\n",
    "      m[element] += 1\n",
    "    else :\n",
    "      m[element] = 1\n",
    "  print(m)\n",
    "\n",
    "char_freq([1,2,2,3,3,3,3,4,3,4,2])"
   ]
  },
  {
   "cell_type": "markdown",
   "metadata": {},
   "source": [
    "A certain childrens game involves starting with a word in a particular category. Each participant in turn says a word, but that word must begin with the final letter of the previous word. Once a word has been given, it cannot be repeated. If an opponent cannot give a word in the category, they fall out of the game. For example, with \"animals\" as the category,\n",
    "Child 1: dog \n",
    "Child 2: goldfish\n",
    "Child 1: hippopotamus\n",
    "Child 2: snake\n",
    "...\n",
    "Your task in this exercise is as follows: Take the following selection of 70 English Pokemon names (extracted from Wikipedia's list of Pokemon) and generate the/a sequence with the highest possible number of Pokemon names where the subsequent name starts with the final letter of the preceding name. No Pokemon name is to be repeated.\n",
    "**audino bagon baltoy banette bidoof braviary bronzor carracosta charmeleon\n",
    "cresselia croagunk darmanitan deino emboar emolga exeggcute gabite\n",
    "girafarig gulpin haxorus heatmor heatran ivysaur jellicent jumpluff kangaskhan\n",
    "kricketune landorus ledyba loudred lumineon lunatone machamp magnezone mamoswine\n",
    "nosepass petilil pidgeotto pikachu pinsir poliwrath poochyena porygon2\n",
    "porygonz registeel relicanth remoraid rufflet sableye scolipede scrafty seaking\n",
    "sealeo silcoon simisear snivy snorlax spoink starly tirtouga trapinch treecko\n",
    "tyrogue vigoroth vulpix wailord wartortle whismur wingull yamask**\n",
    "\n"
   ]
  },
  {
   "cell_type": "code",
   "execution_count": 6,
   "metadata": {},
   "outputs": [
    {
     "name": "stdout",
     "output_type": "stream",
     "text": [
      "2\n"
     ]
    }
   ],
   "source": [
    "words = [\n",
    "    \"audino\", \"bagon\", \"baltoy\", \"banette\", \"bidoof\", \"braviary\", \"bronzor\",\n",
    "    \"carracosta\", \"charmeleon\", \"cresselia\", \"croagunk\", \"darmanitan\", \"deino\",\n",
    "    \"emboar\", \"emolga\", \"exeggcute\", \"gabite\", \"girafarig\", \"gulpin\", \"haxorus\",\n",
    "    \"heatmor\", \"heatran\", \"ivysaur\", \"jellicent\", \"jumpluff\", \"kangaskhan\",\n",
    "    \"kricketune\", \"landorus\", \"ledyba\", \"loudred\", \"lumineon\", \"lunatone\",\n",
    "    \"machamp\", \"magnezone\", \"mamoswine\", \"nosepass\", \"petilil\", \"pidgeotto\",\n",
    "    \"pikachu\", \"pinsir\", \"poliwrath\", \"poochyena\", \"porygon2\", \"porygonz\",\n",
    "    \"registeel\", \"relicanth\", \"remoraid\", \"rufflet\", \"sableye\", \"scolipede\",\n",
    "    \"scrafty\", \"seaking\", \"sealeo\", \"silcoon\", \"simisear\", \"snivy\", \"snorlax\",\n",
    "    \"spoink\", \"starly\", \"tirtouga\", \"trapinch\", \"treecko\", \"tyrogue\", \"vigoroth\",\n",
    "    \"vulpix\", \"wailord\", \"wartortle\", \"whismur\", \"wingull\", \"yamask\"\n",
    "]\n",
    "\n",
    "count = 1\n",
    "max_count = 1\n",
    "\n",
    "for i in range(0,len(words)-1):\n",
    "    if words[i][::-1][0] == words[i+1][0]:\n",
    "        count = count + 1\n",
    "        if count > max_count:\n",
    "            max_count = count\n",
    "\n",
    "    else:\n",
    "        count = 1        \n",
    "\n",
    "print(max_count)\n"
   ]
  },
  {
   "cell_type": "code",
   "execution_count": null,
   "metadata": {},
   "outputs": [],
   "source": []
  },
  {
   "cell_type": "markdown",
   "metadata": {},
   "source": [
    "**Write a program able to play the \"Guess the number\"-game, where the number to be guessed is randomly chosen between 1 and 20. (Source: http://inventwithpython.com) This is how it should work when run in a terminal:\n",
    "\n",
    "Hello! What is your name?\n",
    "Torbjörn\n",
    "Well, Torbjörn, I am thinking of a number between 1 and 20.\n",
    "Take a guess.\n",
    "10\n",
    "Your guess is too low.\n",
    "Take a guess.\n",
    "15\n",
    "Your guess is too low.\n",
    "Take a guess.\n",
    "18\n",
    "Good job, Torbjörn! You guessed my number in 3 guesses!***"
   ]
  },
  {
   "cell_type": "code",
   "execution_count": 5,
   "metadata": {},
   "outputs": [
    {
     "name": "stdout",
     "output_type": "stream",
     "text": [
      "Your guess is too high\n",
      "Your guess is too low\n",
      "Your guess is too low\n",
      "Your guess is too high\n",
      "Your guess is too high\n",
      "Congratulation you guessed the no correctly in  6  guesses\n"
     ]
    }
   ],
   "source": [
    "import random \n",
    "randNumber = (random.randint(1,20))\n",
    "count = 1\n",
    "while True:\n",
    "  number = int(input(\"Enter a number between 1 to 20\\n\"))\n",
    "  if(number == randNumber):\n",
    "    print(\"Congratulation you guessed the no correctly in \", count ,\" guesses\")\n",
    "    break\n",
    "  elif (number < randNumber):\n",
    "    print(\"Your guess is too low\")\n",
    "  else:\n",
    "      print(\"Your guess is too high\")  \n",
    "  count = count +1\n",
    "  "
   ]
  },
  {
   "cell_type": "markdown",
   "metadata": {},
   "source": [
    "***Write a program that maps a list of words into a list of integers representing the lengths of the correponding words.***\n"
   ]
  },
  {
   "cell_type": "code",
   "execution_count": 5,
   "metadata": {},
   "outputs": [
    {
     "name": "stdout",
     "output_type": "stream",
     "text": [
      "{'aman': 4, 'dishant': 7, 'varun': 5, 'chirag': 6}\n"
     ]
    }
   ],
   "source": [
    "list = [\"aman\", \"dishant\",'varun',\"chirag\"]\n",
    "m = {}\n",
    "for word in list : \n",
    "    m[word] = len(word)\n",
    "\n",
    "print(m)\n"
   ]
  }
 ],
 "metadata": {
  "kernelspec": {
   "display_name": "Python 3",
   "language": "python",
   "name": "python3"
  },
  "language_info": {
   "codemirror_mode": {
    "name": "ipython",
    "version": 3
   },
   "file_extension": ".py",
   "mimetype": "text/x-python",
   "name": "python",
   "nbconvert_exporter": "python",
   "pygments_lexer": "ipython3",
   "version": "3.9.6"
  }
 },
 "nbformat": 4,
 "nbformat_minor": 2
}
